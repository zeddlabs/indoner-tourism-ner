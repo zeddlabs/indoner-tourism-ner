{
 "cells": [
  {
   "cell_type": "code",
   "execution_count": 1,
   "id": "3ab01c29",
   "metadata": {},
   "outputs": [
    {
     "name": "stderr",
     "output_type": "stream",
     "text": [
      "d:\\kuliah\\NLP\\project\\.venv\\Lib\\site-packages\\tqdm\\auto.py:21: TqdmWarning: IProgress not found. Please update jupyter and ipywidgets. See https://ipywidgets.readthedocs.io/en/stable/user_install.html\n",
      "  from .autonotebook import tqdm as notebook_tqdm\n"
     ]
    }
   ],
   "source": [
    "import os\n",
    "import numpy as np\n",
    "from datasets import Dataset\n",
    "from transformers import (\n",
    "    AutoTokenizer,\n",
    "    AutoModelForTokenClassification,\n",
    "    TrainingArguments,\n",
    "    Trainer,\n",
    "    pipeline\n",
    ")\n",
    "from seqeval.metrics import classification_report"
   ]
  },
  {
   "cell_type": "code",
   "execution_count": 2,
   "id": "f14f4b2b",
   "metadata": {},
   "outputs": [],
   "source": [
    "data_path = \"IndoNER-Tourism/ner_data.tsv\""
   ]
  },
  {
   "cell_type": "code",
   "execution_count": 3,
   "id": "f50bef23",
   "metadata": {},
   "outputs": [
    {
     "name": "stdout",
     "output_type": "stream",
     "text": [
      "{'tokens': ['Main', 'kesini', 'karena', 'ini', 'salah', 'satu', 'warisan', 'budaya', 'indonesia', ',', 'candi', 'ini', 'salahsatu', 'yg', 'terbesar', 'diindonesia', ',', ',', 'sy', 'tinggal', 'di', 'yogya', 'juga', 'tapi', 'jarak', 'nya', 'kalo', 'kesini', 'lumayan', 'jauh', 'sihh', ',', ',', 'tapi', 'sayang', '2', 'masa', 'orang', 'diy', 'gapernah', 'ke', 'candi', 'nya', ',', ',', 'Pengalaman', 'berharga', 'bisa', 'kesini', 'dengan', 'teman2', 'alumni'], 'ner_tags': ['O', 'O', 'O', 'O', 'O', 'O', 'O', 'O', 'B-LOC', 'O', 'B-WIS', 'O', 'O', 'O', 'O', 'B-LOC', 'O', 'O', 'O', 'O', 'O', 'B-LOC', 'O', 'O', 'O', 'O', 'O', 'O', 'O', 'O', 'O', 'O', 'O', 'O', 'O', 'O', 'O', 'O', 'B-LOC', 'O', 'O', 'B-WIS', 'O', 'O', 'O', 'O', 'O', 'O', 'O', 'O', 'O', 'O']}\n"
     ]
    }
   ],
   "source": [
    "def read_ner_tsv(path):\n",
    "    sents = []\n",
    "    tokens, labels = [], []\n",
    "    with open(path, encoding=\"utf-8\") as f:\n",
    "        for line in f:\n",
    "            line = line.strip()\n",
    "            if not line:\n",
    "                if tokens:\n",
    "                    sents.append({\"tokens\": tokens, \"ner_tags\": labels})\n",
    "                    tokens, labels = [], []\n",
    "            else:\n",
    "                token, label = line.split(\"\\t\")\n",
    "                tokens.append(token)\n",
    "                labels.append(label)\n",
    "    if tokens:\n",
    "        sents.append({\"tokens\": tokens, \"ner_tags\": labels})\n",
    "    return sents\n",
    "\n",
    "data = read_ner_tsv(data_path)\n",
    "dataset = Dataset.from_list(data)\n",
    "\n",
    "print(dataset[0])"
   ]
  },
  {
   "cell_type": "code",
   "execution_count": 4,
   "id": "3a049c38",
   "metadata": {},
   "outputs": [
    {
     "name": "stderr",
     "output_type": "stream",
     "text": [
      "Map: 100%|██████████| 2009/2009 [00:00<00:00, 3222.37 examples/s]\n"
     ]
    }
   ],
   "source": [
    "unique_labels = sorted({lbl for ex in data for lbl in ex[\"ner_tags\"]})\n",
    "label2id = {lbl: i for i, lbl in enumerate(unique_labels)}\n",
    "id2label = {i: lbl for lbl, i in label2id.items()}\n",
    "\n",
    "def encode_labels(example):\n",
    "    example[\"labels\"] = [label2id[l] for l in example[\"ner_tags\"]]\n",
    "    return example\n",
    "\n",
    "dataset = dataset.map(encode_labels)"
   ]
  },
  {
   "cell_type": "code",
   "execution_count": 5,
   "id": "a26a77bf",
   "metadata": {},
   "outputs": [],
   "source": [
    "split_ds = dataset.train_test_split(test_size=0.2, seed=42)\n",
    "train_ds, test_ds = split_ds[\"train\"], split_ds[\"test\"]"
   ]
  },
  {
   "cell_type": "code",
   "execution_count": 6,
   "id": "e2d4dc84",
   "metadata": {},
   "outputs": [
    {
     "name": "stderr",
     "output_type": "stream",
     "text": [
      "Map: 100%|██████████| 1607/1607 [00:01<00:00, 1192.19 examples/s]\n",
      "Map: 100%|██████████| 402/402 [00:00<00:00, 1457.63 examples/s]\n"
     ]
    }
   ],
   "source": [
    "model_name = \"indolem/indobert-base-uncased\"\n",
    "tokenizer = AutoTokenizer.from_pretrained(model_name)\n",
    "\n",
    "def tokenize_and_align_labels(examples):\n",
    "    tokenized = tokenizer(\n",
    "        examples[\"tokens\"],\n",
    "        is_split_into_words=True,\n",
    "        truncation=True,\n",
    "        padding=\"max_length\",\n",
    "        max_length=128\n",
    "    )\n",
    "    labels = []\n",
    "    for i, label in enumerate(examples[\"labels\"]):\n",
    "        word_ids = tokenized.word_ids(batch_index=i)\n",
    "        label_ids, prev = [], None\n",
    "        for j, w_id in enumerate(word_ids):\n",
    "            if w_id is None:\n",
    "                label_ids.append(-100)\n",
    "            elif w_id != prev:\n",
    "                label_ids.append(label[w_id])\n",
    "            else:\n",
    "                # Subword → pakai label I- jika ada\n",
    "                curr = unique_labels[label[w_id]]\n",
    "                if curr.startswith(\"B-\"):\n",
    "                    curr = \"I-\" + curr[2:]\n",
    "                label_ids.append(label2id[curr])\n",
    "            prev = w_id\n",
    "        labels.append(label_ids)\n",
    "    tokenized[\"labels\"] = labels\n",
    "    return tokenized\n",
    "\n",
    "train_enc = train_ds.map(tokenize_and_align_labels, batched=True)\n",
    "test_enc = test_ds.map(tokenize_and_align_labels, batched=True)"
   ]
  },
  {
   "cell_type": "code",
   "execution_count": 7,
   "id": "18c00e57",
   "metadata": {},
   "outputs": [
    {
     "name": "stderr",
     "output_type": "stream",
     "text": [
      "Some weights of BertForTokenClassification were not initialized from the model checkpoint at indolem/indobert-base-uncased and are newly initialized: ['classifier.bias', 'classifier.weight']\n",
      "You should probably TRAIN this model on a down-stream task to be able to use it for predictions and inference.\n"
     ]
    }
   ],
   "source": [
    "model = AutoModelForTokenClassification.from_pretrained(\n",
    "    model_name,\n",
    "    num_labels=len(unique_labels),\n",
    "    id2label=id2label,\n",
    "    label2id=label2id\n",
    ")"
   ]
  },
  {
   "cell_type": "code",
   "execution_count": 8,
   "id": "0a39bc5a",
   "metadata": {},
   "outputs": [
    {
     "name": "stderr",
     "output_type": "stream",
     "text": [
      "C:\\Users\\ThinkPad\\AppData\\Local\\Temp\\ipykernel_20784\\1028617037.py:35: FutureWarning: `tokenizer` is deprecated and will be removed in version 5.0.0 for `Trainer.__init__`. Use `processing_class` instead.\n",
      "  trainer = Trainer(\n",
      "The tokenizer has new PAD/BOS/EOS tokens that differ from the model config and generation config. The model config and generation config were aligned accordingly, being updated with the tokenizer's values. Updated tokens: {'bos_token_id': None}.\n",
      "d:\\kuliah\\NLP\\project\\.venv\\Lib\\site-packages\\torch\\utils\\data\\dataloader.py:666: UserWarning: 'pin_memory' argument is set as true but no accelerator is found, then device pinned memory won't be used.\n",
      "  warnings.warn(warn_msg)\n"
     ]
    },
    {
     "data": {
      "text/html": [
       "\n",
       "    <div>\n",
       "      \n",
       "      <progress value='603' max='603' style='width:300px; height:20px; vertical-align: middle;'></progress>\n",
       "      [603/603 1:38:28, Epoch 3/3]\n",
       "    </div>\n",
       "    <table border=\"1\" class=\"dataframe\">\n",
       "  <thead>\n",
       " <tr style=\"text-align: left;\">\n",
       "      <th>Epoch</th>\n",
       "      <th>Training Loss</th>\n",
       "      <th>Validation Loss</th>\n",
       "      <th>Precision</th>\n",
       "      <th>Recall</th>\n",
       "      <th>F1</th>\n",
       "    </tr>\n",
       "  </thead>\n",
       "  <tbody>\n",
       "    <tr>\n",
       "      <td>1</td>\n",
       "      <td>No log</td>\n",
       "      <td>0.057764</td>\n",
       "      <td>0.867769</td>\n",
       "      <td>0.914179</td>\n",
       "      <td>0.890369</td>\n",
       "    </tr>\n",
       "    <tr>\n",
       "      <td>2</td>\n",
       "      <td>No log</td>\n",
       "      <td>0.052383</td>\n",
       "      <td>0.898254</td>\n",
       "      <td>0.927861</td>\n",
       "      <td>0.912817</td>\n",
       "    </tr>\n",
       "    <tr>\n",
       "      <td>3</td>\n",
       "      <td>0.067500</td>\n",
       "      <td>0.049778</td>\n",
       "      <td>0.906627</td>\n",
       "      <td>0.935945</td>\n",
       "      <td>0.921053</td>\n",
       "    </tr>\n",
       "  </tbody>\n",
       "</table><p>"
      ],
      "text/plain": [
       "<IPython.core.display.HTML object>"
      ]
     },
     "metadata": {},
     "output_type": "display_data"
    },
    {
     "name": "stderr",
     "output_type": "stream",
     "text": [
      "d:\\kuliah\\NLP\\project\\.venv\\Lib\\site-packages\\torch\\utils\\data\\dataloader.py:666: UserWarning: 'pin_memory' argument is set as true but no accelerator is found, then device pinned memory won't be used.\n",
      "  warnings.warn(warn_msg)\n",
      "d:\\kuliah\\NLP\\project\\.venv\\Lib\\site-packages\\torch\\utils\\data\\dataloader.py:666: UserWarning: 'pin_memory' argument is set as true but no accelerator is found, then device pinned memory won't be used.\n",
      "  warnings.warn(warn_msg)\n"
     ]
    },
    {
     "data": {
      "text/plain": [
       "TrainOutput(global_step=603, training_loss=0.05928535643303968, metrics={'train_runtime': 5921.8713, 'train_samples_per_second': 0.814, 'train_steps_per_second': 0.102, 'total_flos': 314944999520256.0, 'train_loss': 0.05928535643303968, 'epoch': 3.0})"
      ]
     },
     "execution_count": 8,
     "metadata": {},
     "output_type": "execute_result"
    }
   ],
   "source": [
    "args = TrainingArguments(\n",
    "    output_dir=\"ner_model\",\n",
    "    eval_strategy=\"epoch\",\n",
    "    save_strategy=\"epoch\",\n",
    "    learning_rate=5e-5,\n",
    "    per_device_train_batch_size=8,\n",
    "    per_device_eval_batch_size=8,\n",
    "    num_train_epochs=3,\n",
    "    weight_decay=0.01,\n",
    "    logging_dir=\"./logs\",\n",
    ")\n",
    "\n",
    "import evaluate\n",
    "metric = evaluate.load(\"seqeval\")\n",
    "\n",
    "def compute_metrics(p):\n",
    "    preds, labels = p\n",
    "    preds = np.argmax(preds, axis=2)\n",
    "    true_labels, true_preds = [], []\n",
    "    for i, lbl in enumerate(labels):\n",
    "        preds_i, labs_i = [], []\n",
    "        for j, l in enumerate(lbl):\n",
    "            if l != -100:\n",
    "                preds_i.append(id2label[preds[i][j]])\n",
    "                labs_i.append(id2label[l])\n",
    "        true_preds.append(preds_i)\n",
    "        true_labels.append(labs_i)\n",
    "    results = metric.compute(predictions=true_preds, references=true_labels)\n",
    "    return {\n",
    "        \"precision\": results[\"overall_precision\"],\n",
    "        \"recall\": results[\"overall_recall\"],\n",
    "        \"f1\": results[\"overall_f1\"],\n",
    "    }\n",
    "\n",
    "trainer = Trainer(\n",
    "    model=model,\n",
    "    args=args,\n",
    "    train_dataset=train_enc,\n",
    "    eval_dataset=test_enc,\n",
    "    tokenizer=tokenizer,\n",
    "    compute_metrics=compute_metrics,\n",
    ")\n",
    "\n",
    "trainer.train()"
   ]
  },
  {
   "cell_type": "code",
   "execution_count": 9,
   "id": "d40017ab",
   "metadata": {},
   "outputs": [
    {
     "name": "stderr",
     "output_type": "stream",
     "text": [
      "d:\\kuliah\\NLP\\project\\.venv\\Lib\\site-packages\\torch\\utils\\data\\dataloader.py:666: UserWarning: 'pin_memory' argument is set as true but no accelerator is found, then device pinned memory won't be used.\n",
      "  warnings.warn(warn_msg)\n"
     ]
    },
    {
     "data": {
      "text/html": [
       "\n",
       "    <div>\n",
       "      \n",
       "      <progress value='51' max='51' style='width:300px; height:20px; vertical-align: middle;'></progress>\n",
       "      [51/51 01:58]\n",
       "    </div>\n",
       "    "
      ],
      "text/plain": [
       "<IPython.core.display.HTML object>"
      ]
     },
     "metadata": {},
     "output_type": "display_data"
    },
    {
     "data": {
      "text/plain": [
       "{'eval_loss': 0.049777623265981674,\n",
       " 'eval_precision': 0.9066265060240963,\n",
       " 'eval_recall': 0.9359452736318408,\n",
       " 'eval_f1': 0.9210526315789473,\n",
       " 'eval_runtime': 122.3311,\n",
       " 'eval_samples_per_second': 3.286,\n",
       " 'eval_steps_per_second': 0.417,\n",
       " 'epoch': 3.0}"
      ]
     },
     "execution_count": 9,
     "metadata": {},
     "output_type": "execute_result"
    }
   ],
   "source": [
    "trainer.evaluate()"
   ]
  },
  {
   "cell_type": "code",
   "execution_count": 12,
   "id": "301dd79d",
   "metadata": {},
   "outputs": [
    {
     "name": "stderr",
     "output_type": "stream",
     "text": [
      "Device set to use cpu\n"
     ]
    }
   ],
   "source": [
    "trainer.save_model(\"ner_model\")\n",
    "tokenizer.save_pretrained(\"ner_model\")\n",
    "\n",
    "nlp = pipeline(\"ner\", model=\"ner_model\", tokenizer=tokenizer, aggregation_strategy=\"simple\")"
   ]
  },
  {
   "cell_type": "code",
   "execution_count": null,
   "id": "36d02b22",
   "metadata": {},
   "outputs": [
    {
     "data": {
      "text/plain": [
       "[{'entity_group': 'WIS',\n",
       "  'score': np.float32(0.99538183),\n",
       "  'word': 'gunung sibayak',\n",
       "  'start': 13,\n",
       "  'end': 27},\n",
       " {'entity_group': 'LOC',\n",
       "  'score': np.float32(0.94576514),\n",
       "  'word': 'tanah karo',\n",
       "  'start': 40,\n",
       "  'end': 50},\n",
       " {'entity_group': 'LOC',\n",
       "  'score': np.float32(0.9230927),\n",
       "  'word': 'sumatera utara',\n",
       "  'start': 52,\n",
       "  'end': 66},\n",
       " {'entity_group': 'FAS',\n",
       "  'score': np.float32(0.99064356),\n",
       "  'word': 'guide',\n",
       "  'start': 75,\n",
       "  'end': 80}]"
      ]
     },
     "execution_count": 18,
     "metadata": {},
     "output_type": "execute_result"
    }
   ],
   "source": [
    "text = \"Saya berkunjung ke Candi Borobudur di Jawa Tengah.\"\n",
    "nlp(text)"
   ]
  },
  {
   "cell_type": "code",
   "execution_count": null,
   "id": "1ea547b5",
   "metadata": {},
   "outputs": [],
   "source": []
  }
 ],
 "metadata": {
  "kernelspec": {
   "display_name": ".venv (3.11.5)",
   "language": "python",
   "name": "python3"
  },
  "language_info": {
   "codemirror_mode": {
    "name": "ipython",
    "version": 3
   },
   "file_extension": ".py",
   "mimetype": "text/x-python",
   "name": "python",
   "nbconvert_exporter": "python",
   "pygments_lexer": "ipython3",
   "version": "3.11.5"
  }
 },
 "nbformat": 4,
 "nbformat_minor": 5
}
